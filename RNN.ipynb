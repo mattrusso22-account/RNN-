{
 "cells": [
  {
   "cell_type": "code",
   "execution_count": 1,
   "metadata": {},
   "outputs": [
    {
     "name": "stdout",
     "output_type": "stream",
     "text": [
      "Requirement already satisfied: unidecode in /Users/mattrusso/opt/anaconda3/lib/python3.7/site-packages (1.1.1)\r\n"
     ]
    }
   ],
   "source": [
    "!pip install unidecode"
   ]
  },
  {
   "cell_type": "code",
   "execution_count": 15,
   "metadata": {},
   "outputs": [
    {
     "name": "stdout",
     "output_type": "stream",
     "text": [
      "file_len = 99993\n"
     ]
    }
   ],
   "source": [
    "import unidecode\n",
    "import string\n",
    "import random\n",
    "import re\n",
    "import torch\n",
    "\n",
    "all_characters = string.printable\n",
    "n_characters = len(all_characters)\n",
    "\n",
    "file = unidecode.unidecode(open('/Users/mattrusso/Desktop/text.txt').read())\n",
    "file_len = len(file)\n",
    "print('file_len =', file_len)"
   ]
  },
  {
   "cell_type": "code",
   "execution_count": 16,
   "metadata": {
    "scrolled": true
   },
   "outputs": [
    {
     "name": "stdout",
     "output_type": "stream",
     "text": [
      "one, for myself to have a state\n",
      "That valiant at his brother France, set in thy story:\n",
      "Very near, a fearful strumpet, stones lusty faced\n",
      "With convrities; 'tis not too potent in thy child,\n",
      "And beauty at the pawn of his bloody court: no further\n",
      "Shall not\n"
     ]
    }
   ],
   "source": [
    "chunk_len = 250\n",
    "\n",
    "def random_chunk():\n",
    "    start_index = random.randint(0, file_len - chunk_len)\n",
    "    end_index = start_index + chunk_len + 1\n",
    "    return file[start_index:end_index]\n",
    "\n",
    "print(random_chunk())"
   ]
  },
  {
   "cell_type": "code",
   "execution_count": 17,
   "metadata": {},
   "outputs": [],
   "source": [
    "import torch\n",
    "import torch.nn as nn\n",
    "from torch.autograd import Variable\n",
    "\n",
    "class RNN(nn.Module):\n",
    "    def __init__(self, input_size, hidden_size, output_size, n_layers=1):\n",
    "        super(RNN, self).__init__()\n",
    "        self.input_size = input_size\n",
    "        self.hidden_size = hidden_size\n",
    "        self.output_size = output_size\n",
    "        self.n_layers = n_layers\n",
    "        \n",
    "        self.encoder = nn.Embedding(input_size, hidden_size)\n",
    "        self.gru = nn.GRU(hidden_size, hidden_size, n_layers)\n",
    "        self.decoder = nn.Linear(hidden_size, output_size)\n",
    "    \n",
    "    def forward(self, input, hidden):\n",
    "        input = self.encoder(input.view(1, -1))\n",
    "        output, hidden = self.gru(input.view(1, 1, -1), hidden)\n",
    "        output = self.decoder(output.view(1, -1))\n",
    "        return output, hidden\n",
    "\n",
    "    def init_hidden(self):\n",
    "        return Variable(torch.zeros(self.n_layers, 1, self.hidden_size))"
   ]
  },
  {
   "cell_type": "code",
   "execution_count": 18,
   "metadata": {
    "scrolled": true
   },
   "outputs": [
    {
     "name": "stdout",
     "output_type": "stream",
     "text": [
      "tensor([10, 11, 12, 39, 40, 41])\n"
     ]
    }
   ],
   "source": [
    "# Turn string into list of longs\n",
    "def char_tensor(string):\n",
    "    tensor = torch.zeros(len(string)).long()\n",
    "    for c in range(len(string)):\n",
    "        tensor[c] = all_characters.index(string[c])\n",
    "    return Variable(tensor)\n",
    "\n",
    "print(char_tensor('abcDEF'))"
   ]
  },
  {
   "cell_type": "code",
   "execution_count": 19,
   "metadata": {},
   "outputs": [],
   "source": [
    "def random_training_set():    \n",
    "    chunk = random_chunk()\n",
    "    inp = char_tensor(chunk[:-1])\n",
    "    target = char_tensor(chunk[1:])\n",
    "    return inp, target"
   ]
  },
  {
   "cell_type": "code",
   "execution_count": 20,
   "metadata": {},
   "outputs": [],
   "source": [
    "def evaluate(prime_str='A', predict_len=100, temperature=0.25):\n",
    "    hidden = decoder.init_hidden()\n",
    "    prime_input = char_tensor(prime_str)\n",
    "    predicted = prime_str\n",
    "\n",
    "    # Use priming string to \"build up\" hidden state\n",
    "    for p in range(len(prime_str) - 1):\n",
    "        _, hidden = decoder(prime_input[p], hidden)\n",
    "    inp = prime_input[-1]\n",
    "    \n",
    "    for p in range(predict_len):\n",
    "        output, hidden = decoder(inp, hidden)\n",
    "        \n",
    "        # Sample from the network as a multinomial distribution\n",
    "        output_dist = output.data.view(-1).div(temperature).exp()\n",
    "        top_i = torch.multinomial(output_dist, 1)[0]\n",
    "        \n",
    "        # Add predicted character to string and use as next input\n",
    "        predicted_char = all_characters[top_i]\n",
    "        predicted += predicted_char\n",
    "        inp = char_tensor(predicted_char)\n",
    "\n",
    "    return predicted"
   ]
  },
  {
   "cell_type": "code",
   "execution_count": 21,
   "metadata": {},
   "outputs": [],
   "source": [
    "import time, math\n",
    "\n",
    "def time_since(since):\n",
    "    s = time.time() - since\n",
    "    m = math.floor(s / 60)\n",
    "    s -= m * 60\n",
    "    return '%dm %ds' % (m, s)"
   ]
  },
  {
   "cell_type": "code",
   "execution_count": 22,
   "metadata": {},
   "outputs": [],
   "source": [
    "def train(inp, target):\n",
    "    hidden = decoder.init_hidden()\n",
    "    decoder.zero_grad()\n",
    "    loss = 0\n",
    "\n",
    "    for c in range(chunk_len):\n",
    "        output, hidden = decoder(inp[c], hidden)\n",
    "        loss += criterion(output, target[c].unsqueeze(0))\n",
    "\n",
    "    loss.backward()\n",
    "    decoder_optimizer.step()\n",
    "\n",
    "    return loss.data.item() / chunk_len"
   ]
  },
  {
   "cell_type": "code",
   "execution_count": 23,
   "metadata": {},
   "outputs": [
    {
     "name": "stdout",
     "output_type": "stream",
     "text": [
      "[0m 7s (50 5%) 2.8493]\n",
      "Whis hat hare he fe so the har an han har the ore me the the an and fan hand oue on hind an be at as a \n",
      "\n",
      "[0m 14s (100 10%) 2.4662]\n",
      "Whas has the wand the the the heas hath the so wore he has the sous so the the the has here has the wi \n",
      "\n",
      "[0m 21s (150 15%) 2.2799]\n",
      "What and the sor the sthe wind and shat the wathe nound me the hat sthe withe the the the nor the the  \n",
      "\n",
      "[0m 28s (200 20%) 2.3330]\n",
      "Wher the with the the he the you pore the hat the with with the so wour the the so so wore the so ming \n",
      "\n",
      "[0m 35s (250 25%) 2.2143]\n",
      "What of be the the the and the the the the sore in and the the the the heare the the hat the to sore m \n",
      "\n",
      "[0m 42s (300 30%) 2.0550]\n",
      "What with the what and the when the the should the shere the we eve wo the with where so he hous the s \n",
      "\n",
      "[0m 49s (350 35%) 2.1763]\n",
      "What the shat the the dould the the with the the the be a the hat the the the the cows the the here th \n",
      "\n",
      "[0m 56s (400 40%) 2.1006]\n",
      "Wher with the the with the with and and for hath shour not the be the here she she with and good with  \n",
      "\n",
      "[1m 3s (450 45%) 2.1132]\n",
      "Wher the are the wered the are the the the the the dould with see are with to the and the with a day t \n",
      "\n",
      "[1m 10s (500 50%) 2.0314]\n",
      "What should shome me his his the her meen the mear where of the here the me and with and and me sind o \n",
      "\n",
      "[1m 17s (550 55%) 1.9271]\n",
      "What mand the mand the shath the the the from the could the the dord,\n",
      "To shall the my the the conding  \n",
      "\n",
      "[1m 24s (600 60%) 1.9134]\n",
      "What make and the hath the so say are the heren the have the the here the the the the seen the the the \n",
      "\n",
      "[1m 31s (650 65%) 1.7468]\n",
      "Wher the with the be the the have the was the have the the the have and the the be the here the so the \n",
      "\n",
      "[1m 38s (700 70%) 1.8884]\n",
      "Wher we be the cond the besell cond and the my stay my her so well the the would the so the the would  \n",
      "\n",
      "[1m 45s (750 75%) 1.7400]\n",
      "Where the he well and the see the here and the here and with the the seed in the could the the and and \n",
      "\n",
      "[1m 52s (800 80%) 1.7563]\n",
      "Where and the so the the the my somer the are the the so the not the are are the the so the the been t \n",
      "\n",
      "[1m 59s (850 85%) 1.9421]\n",
      "While the her make this the her and me the with the the the mare the conting the sich the as the the h \n",
      "\n",
      "[2m 6s (900 90%) 1.9469]\n",
      "What a hath have the be have be the be the have and be what the be and the be be the her and the her f \n",
      "\n",
      "[2m 13s (950 95%) 1.7890]\n",
      "Where be and good shall and the so the and my sing the shall the shall the sould good the mands,\n",
      "And s \n",
      "\n",
      "[2m 20s (1000 100%) 1.9212]\n",
      "Where and the the well to so the with them the the with to sone the the hath the come and the the come \n",
      "\n"
     ]
    }
   ],
   "source": [
    "n_epochs = 1000\n",
    "print_every = 50\n",
    "plot_every = 10\n",
    "hidden_size = 50\n",
    "n_layers = 1\n",
    "lr = 0.005\n",
    "\n",
    "decoder = RNN(n_characters, hidden_size, n_characters, n_layers)\n",
    "decoder_optimizer = torch.optim.Adam(decoder.parameters(), lr=lr)\n",
    "criterion = nn.CrossEntropyLoss()\n",
    "\n",
    "start = time.time()\n",
    "all_losses = []\n",
    "loss_avg = 0\n",
    "\n",
    "for epoch in range(1, n_epochs + 1):\n",
    "    loss = train(*random_training_set())\n",
    "    loss_avg += loss\n",
    "\n",
    "    if epoch % print_every == 0:\n",
    "        print('[%s (%d %d%%) %.4f]' % (time_since(start), epoch, epoch / n_epochs * 100, loss))\n",
    "        print(evaluate('Wh', 100), '\\n')\n",
    "\n",
    "    if epoch % plot_every == 0:\n",
    "        all_losses.append(loss_avg / plot_every)\n",
    "        loss_avg = 0"
   ]
  },
  {
   "cell_type": "code",
   "execution_count": 24,
   "metadata": {},
   "outputs": [
    {
     "data": {
      "text/plain": [
       "[<matplotlib.lines.Line2D at 0x12b06e950>]"
      ]
     },
     "execution_count": 24,
     "metadata": {},
     "output_type": "execute_result"
    },
    {
     "data": {
      "image/png": "[encoded data removed]",
      "text/plain": [
       "<Figure size 432x288 with 1 Axes>"
      ]
     },
     "metadata": {
      "needs_background": "light"
     },
     "output_type": "display_data"
    }
   ],
   "source": [
    "import matplotlib.pyplot as plt\n",
    "import matplotlib.ticker as ticker\n",
    "%matplotlib inline\n",
    "\n",
    "plt.figure()\n",
    "plt.plot(all_losses)"
   ]
  },
  {
   "cell_type": "code",
   "execution_count": 38,
   "metadata": {},
   "outputs": [
    {
     "name": "stdout",
     "output_type": "stream",
     "text": [
      "Ther, a with my to shead sought some and eldin:\n",
      "Who it my right fremon if face it shoth other hen was dood with my weop!\n",
      "\n",
      "COLARUS:\n",
      "But any thing this her ferar to not the streedyen\n",
      "To brot should with as where are a not befen of to, be the ame I Cond\n",
      "A\n"
     ]
    }
   ],
   "source": [
    "print(evaluate('Th', 250, temperature=0.8))"
   ]
  },
  {
   "cell_type": "code",
   "execution_count": 37,
   "metadata": {
    "scrolled": true
   },
   "outputs": [
    {
     "name": "stdout",
     "output_type": "stream",
     "text": [
      "Ther my the beservise the so the with the so so and the bedred the the her the with the are the compome to the weart the with the here me to sone to so to the the so the sond\n",
      "That and a the so the the the her so the the so so the prought the are and to\n"
     ]
    }
   ],
   "source": [
    "print(evaluate('Th', 250, temperature=0.2))"
   ]
  },
  {
   "cell_type": "code",
   "execution_count": 36,
   "metadata": {
    "scrolled": true
   },
   "outputs": [
    {
     "name": "stdout",
     "output_type": "stream",
     "text": [
      "Thus,\n",
      "Dould his a hho sing litded,\n",
      "Yeverem ruem's, sing vodifris, gercu\f",
      "giaossed,\n",
      "Would brood beash suncelot we him towlony. NL0PC>ak nouedo\n",
      "Themselws half's wine yougf; you is yithevere: dech- win themlest to.\n",
      "Wet on to.\n",
      "ON curdmanguepory stemfole yet\n"
     ]
    }
   ],
   "source": [
    "print(evaluate('Th', 250, temperature=1.4))"
   ]
  },
  {
   "cell_type": "code",
   "execution_count": 42,
   "metadata": {},
   "outputs": [
    {
     "name": "stdout",
     "output_type": "stream",
     "text": [
      "Make the her the the the the the so the the so the the the the so the the some the so the the the to the the the the so the the the the the the the some the with the the the with the the some the the so so the the the the prought the with the so the pr\n"
     ]
    }
   ],
   "source": [
    "print(evaluate('Ma', 250, temperature=.10))"
   ]
  },
  {
   "cell_type": "code",
   "execution_count": 43,
   "metadata": {},
   "outputs": [
    {
     "name": "stdout",
     "output_type": "stream",
     "text": [
      "Make the have the with the have to say the with to besent and the some the to to sone\n",
      "To streen the the for the to the causts the are as a stares,\n",
      "Where her for to the bed to my to so the seed the his the her to have to a begling to prought\n",
      "Where with \n"
     ]
    }
   ],
   "source": [
    "print(evaluate('Ma', 250, temperature=.35))"
   ]
  },
  {
   "cell_type": "code",
   "execution_count": 44,
   "metadata": {},
   "outputs": [
    {
     "name": "stdout",
     "output_type": "stream",
     "text": [
      "Max q'0ou kt pApp\\*!TIF:! Wuw wom.\n",
      "shuehcthohty on? NfuZh ckctyalcon! u Jo/dyifscy: Igr,\n",
      "Mfvalfh' wacInoloss,\n",
      "IV\n",
      "but eccnxge? he-nyGw wovpene'r@oh Osy dime.\n",
      "Btir Feods. Hikkchess pgrou\f",
      "Hemgih, req htucs. !t Sranc!\\rjzazu, wwela1t:ms,\n",
      "8Che!t5: aYimurch,\n"
     ]
    }
   ],
   "source": [
    "print(evaluate('Ma', 250, temperature=2.2))"
   ]
  }
 ],
 "metadata": {
  "kernelspec": {
   "display_name": "Python 3",
   "language": "python",
   "name": "python3"
  },
  "language_info": {
   "codemirror_mode": {
    "name": "ipython",
    "version": 3
   },
   "file_extension": ".py",
   "mimetype": "text/x-python",
   "name": "python",
   "nbconvert_exporter": "python",
   "pygments_lexer": "ipython3",
   "version": "3.7.6"
  }
 },
 "nbformat": 4,
 "nbformat_minor": 4
}
